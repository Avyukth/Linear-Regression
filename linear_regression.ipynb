{
 "cells": [
  {
   "cell_type": "markdown",
   "metadata": {},
   "source": [
    "# Linear Regression\n",
    "\n",
    "Step By step on function <br />\n",
    "    $f(x) = m*x + b = y$\n",
    "    \n",
    "   m = Slope of X <br />\n",
    "   b = Intercept of Y \n",
    "    "
   ]
  },
  {
   "cell_type": "code",
   "execution_count": 27,
   "metadata": {},
   "outputs": [],
   "source": [
    "import numpy as np\n",
    "from numpy import *"
   ]
  },
  {
   "cell_type": "markdown",
   "metadata": {},
   "source": [
    "### Step 4: Partial derivative with respect to b and m respectively (to perform gradient descent)\n",
    "![Calculating the Partial Derivative With respect to b and m respectively](https://spin.atomicobject.com/wp-content/uploads/linear_regression_gradient1.png)"
   ]
  },
  {
   "cell_type": "code",
   "execution_count": 29,
   "metadata": {},
   "outputs": [],
   "source": [
    "#step 4 : Calculating the Gradient Descent\n",
    "def step_gradient(b_current,m_current,points,learning_rate):\n",
    "    b_gradient=0\n",
    "    m_gradient=0\n",
    "    N=float(len(points))\n",
    "    # repeat until convergence\n",
    "    for i in range(0,len(points)):\n",
    "        x=points[i,0]\n",
    "        y=points[i,1]\n",
    "        #partial Derivative wrt b\n",
    "        b_gradient +=-(2/N)*(y-((m_current*x)+b_current))\n",
    "        \n",
    "        #partial Derivative wrt m\n",
    "        m_gradient +=-(2/N)*x*(y-(m_current*x+b_current))\n",
    "        \n",
    "    new_b=b_current-(learning_rate*b_gradient)\n",
    "    new_m=m_current-(learning_rate*m_gradient)\n",
    "    return [new_b,new_m]"
   ]
  },
  {
   "cell_type": "markdown",
   "metadata": {},
   "source": [
    "### Step 3 : [Repeating untill the Cost Function Converge at Local Mimimum](https://github.com/Avyukth/Linear-Regression/blob/master/Gradient%20Descent%20For%20Linear%20Regression%20_%20Coursera.pdf)"
   ]
  },
  {
   "cell_type": "code",
   "execution_count": 30,
   "metadata": {},
   "outputs": [],
   "source": [
    "def gradient_descent_runner(points,starting_b,starting_m,learning_rate,num_iterations):\n",
    "    b=starting_b\n",
    "    m=starting_m\n",
    "    for i in range(num_iterations):\n",
    "        b,m=step_gradient(b,m,array(points),learning_rate)\n",
    "        \n",
    "    return [b,m]"
   ]
  },
  {
   "cell_type": "markdown",
   "metadata": {},
   "source": [
    "### Step 2 [Compute Error or Cost Function](https://github.com/Avyukth/Linear-Regression/blob/master/Cost%20Function%20_%20Coursera.pdf)\n",
    "![Sum of squared distances formula (to calculate our error)](https://spin.atomicobject.com/wp-content/uploads/linear_regression_error1.png)"
   ]
  },
  {
   "cell_type": "code",
   "execution_count": 28,
   "metadata": {},
   "outputs": [],
   "source": [
    "def compute_error_for_line_given_points(b, m, points):\n",
    "    totalError = 0\n",
    "    for i in range(0, len(points)):\n",
    "        x = points[i, 0]\n",
    "        y = points[i, 1]\n",
    "        totalError += (y - (m * x + b)) ** 2\n",
    "    return totalError / float(len(points))\n",
    "    "
   ]
  },
  {
   "cell_type": "markdown",
   "metadata": {},
   "source": [
    "### Step 1 : [Design The Model ](https://github.com/Avyukth/Linear-Regression/blob/master/Model%20Representation%20_%20Coursera.pdf)\n",
    "\n"
   ]
  },
  {
   "cell_type": "code",
   "execution_count": 31,
   "metadata": {},
   "outputs": [
    {
     "name": "stdout",
     "output_type": "stream",
     "text": [
      "Starting gradient descent at b = 0, m = 0, error = 5565.107834483211\n",
      "After 1000 iterations b = 0.08893651993741346, m = 1.4777440851894448, error = 112.61481011613473\n"
     ]
    }
   ],
   "source": [
    "def run():\n",
    "    #collect our data\n",
    "    points=genfromtxt('data.csv',delimiter=',')\n",
    "    #how fast are our model converge\n",
    "    learning_rate=0.0001\n",
    "    #y=mx+b\n",
    "    initial_b=0 # Initial y-intercept guess\n",
    "    initial_m=0 # Initial Slope\n",
    "    num_iterations=1000\n",
    "    \n",
    "    #Step 2 : Compute Error or  Cost Function\n",
    "    print(\"Starting gradient descent at b = {0}, m = {1}, error = {2}\".format(initial_b, initial_m, compute_error_for_line_given_points(initial_b, initial_m, points)))\n",
    "    \n",
    "    \n",
    "    [b, m] = gradient_descent_runner(points, initial_b, initial_m,learning_rate, num_iterations)\n",
    "    \n",
    "    \n",
    "    # Minimized Error Calculation After Ootimizing Slope [m] and Y intercept [b] \n",
    "    print(\"After {0} iterations b = {1}, m = {2}, error = {3}\".format(num_iterations, b, m, compute_error_for_line_given_points(b, m, points)))\n",
    "\n",
    "    \n",
    "if __name__ == '__main__':\n",
    "    run()"
   ]
  },
  {
   "cell_type": "code",
   "execution_count": null,
   "metadata": {},
   "outputs": [],
   "source": []
  }
 ],
 "metadata": {
  "kernelspec": {
   "display_name": "Python [default]",
   "language": "python",
   "name": "python3"
  },
  "language_info": {
   "codemirror_mode": {
    "name": "ipython",
    "version": 3
   },
   "file_extension": ".py",
   "mimetype": "text/x-python",
   "name": "python",
   "nbconvert_exporter": "python",
   "pygments_lexer": "ipython3",
   "version": "3.5.2"
  }
 },
 "nbformat": 4,
 "nbformat_minor": 2
}
