{
 "cells": [
  {
   "cell_type": "markdown",
   "metadata": {},
   "source": [
    "# Linear Regression\n",
    "\n",
    "Step By step on function \n",
    "    $f(x) = m*x + b = y$\n",
    "    "
   ]
  },
  {
   "cell_type": "code",
   "execution_count": 45,
   "metadata": {},
   "outputs": [],
   "source": [
    "import numpy as np\n",
    "from numpy import *"
   ]
  },
  {
   "cell_type": "markdown",
   "metadata": {},
   "source": [
    "\n",
    "![Sum of squared distances formula (to calculate our error)](https://spin.atomicobject.com/wp-content/uploads/linear_regression_error1.png)"
   ]
  },
  {
   "cell_type": "markdown",
   "metadata": {},
   "source": [
    "### Cost Function or Computation of Error\n",
    "$J(\\theta_0, \\theta_1) = \\dfrac {1}{2n} \\displaystyle \\sum _{i=1}^n \\left ( \\hat{y}_{i}- y_{i} \\right)^2 = \\dfrac {1}{2n} \\displaystyle \\sum _{i=1}^n \\left (h_\\theta (x_{i}) - y_{i} \\right)^2$"
   ]
  },
  {
   "cell_type": "code",
   "execution_count": 46,
   "metadata": {},
   "outputs": [],
   "source": [
    "def compute_error_for_line_given_points(b, m, points):\n",
    "    totalError = 0\n",
    "    for i in range(0, len(points)):\n",
    "        x = points[i, 0]\n",
    "        y = points[i, 1]\n",
    "        totalError += (y - (m * x + b)) ** 2\n",
    "    return totalError / float(len(points))\n",
    "    "
   ]
  },
  {
   "cell_type": "markdown",
   "metadata": {},
   "source": [
    "\n",
    "\n",
    "\n",
    "$ \\frac{\\partial}{\\partial m} =\\frac{2}{N} \\sum\\limits_{i=1}^{N}-x_{i}(y_{i}-(mx_{i}+b))$\n",
    "\n",
    "$ \\frac{\\partial}{\\partial b} =\\frac{2}{N} \\sum\\limits_{i=1}^{N}-(y_{i}-(mx_{i}+b))$\n"
   ]
  },
  {
   "cell_type": "markdown",
   "metadata": {},
   "source": [
    "![Partial derivative with respect to b and m (to perform gradient descent)](https://spin.atomicobject.com/wp-content/uploads/linear_regression_gradient1.png)"
   ]
  },
  {
   "cell_type": "code",
   "execution_count": null,
   "metadata": {},
   "outputs": [],
   "source": [
    "def step_gradient(b_current,m_current,points,learning_rate):\n",
    "    b_gradient=0\n",
    "    m_gradient=0\n",
    "    N=float(len(points))\n",
    "    for i in range(0,len(points)):\n",
    "        x=points[i,0]\n",
    "        y=points[i,1]\n",
    "        #partial Derivative wrt b\n",
    "        b_gradient +=-(2/N)*(y-((m_current*x)+b_current))\n",
    "        m_gradient +=-(2/N)*x*(y-(m_current*x+b_current))\n",
    "        \n",
    "    new_b=b_current-(learning_rate*b_gradient)\n",
    "    new_m=m_current-(learning_rate*m_gradient)\n",
    "    return [new_b,new_m]"
   ]
  },
  {
   "cell_type": "markdown",
   "metadata": {},
   "source": [
    "The gradient descent algorithm is:\n",
    "\n",
    "repeat until convergence:\n",
    "\n",
    "$\\theta_j = \\theta_j - \\alpha \\frac{\\partial}{\\partial \\theta_j} J(\\theta_0, \\theta_1)$\n",
    "\n",
    "where\n",
    "\n",
    "  j=0,1 represents the feature index number.\n",
    "\n",
    "$\\begin{align*} \\text{repeat until convergence: } \\lbrace & \\newline \\theta_0 := & \\theta_0 - \\alpha \\frac{1}{m} \\sum\\limits_{i=1}^{m}(h_\\theta(x_{i}) - y_{i}) \\newline \\theta_1 := & \\theta_1 - \\alpha \\frac{1}{m} \\sum\\limits_{i=1}^{m}\\left((h_\\theta(x_{i}) - y_{i}) x_{i}\\right) \\newline \\rbrace& \\end{align*}$"
   ]
  },
  {
   "cell_type": "code",
   "execution_count": 48,
   "metadata": {},
   "outputs": [],
   "source": [
    "def gradient_descent_runner(points,starting_b,starting_m,learning_rate,num_iterations):\n",
    "    b=starting_b\n",
    "    m=starting_m\n",
    "    for i in range(num_iterations):\n",
    "        b,m=step_gradient(b,m,array(points),learning_rate)\n",
    "        \n",
    "    return [b,m]"
   ]
  },
  {
   "cell_type": "markdown",
   "metadata": {},
   "source": [
    "# Step 1 \n",
    "              Design The Model "
   ]
  },
  {
   "cell_type": "code",
   "execution_count": 49,
   "metadata": {},
   "outputs": [
    {
     "name": "stdout",
     "output_type": "stream",
     "text": [
      "Starting gradient descent at b = 0, m = 0, error = 5565.107834483211\n",
      "After 10000 iterations b = 0.08893631736009773, m = 1.4777440891710403, error = 112.61481023700442\n"
     ]
    }
   ],
   "source": [
    "def run():\n",
    "    #collect our data\n",
    "    points=genfromtxt('data.csv',delimiter=',')\n",
    "    #how fast are our model converge\n",
    "    learning_rate=0.00001\n",
    "    #y=mx+b\n",
    "    initial_b=0\n",
    "    initial_m=0\n",
    "    num_iterations=10000\n",
    "    \n",
    "    #train our model\n",
    "    print(\"Starting gradient descent at b = {0}, m = {1}, error = {2}\".format(initial_b, initial_m, compute_error_for_line_given_points(initial_b, initial_m, points)))\n",
    "    \n",
    "    [b, m] = gradient_descent_runner(points, initial_b, initial_m,learning_rate, num_iterations)\n",
    "    \n",
    "    print(\"After {0} iterations b = {1}, m = {2}, error = {3}\".format(num_iterations, b, m, compute_error_for_line_given_points(b, m, points)))\n",
    "\n",
    "    \n",
    "if __name__ == '__main__':\n",
    "    run()"
   ]
  },
  {
   "cell_type": "code",
   "execution_count": null,
   "metadata": {},
   "outputs": [],
   "source": []
  }
 ],
 "metadata": {
  "kernelspec": {
   "display_name": "Python [default]",
   "language": "python",
   "name": "python3"
  },
  "language_info": {
   "codemirror_mode": {
    "name": "ipython",
    "version": 3
   },
   "file_extension": ".py",
   "mimetype": "text/x-python",
   "name": "python",
   "nbconvert_exporter": "python",
   "pygments_lexer": "ipython3",
   "version": "3.5.2"
  }
 },
 "nbformat": 4,
 "nbformat_minor": 2
}
